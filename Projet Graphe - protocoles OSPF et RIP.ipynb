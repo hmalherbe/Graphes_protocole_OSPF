{
 "cells": [
  {
   "cell_type": "markdown",
   "metadata": {},
   "source": [
    "# Parcours d'un réseau de routeurs avec le protocole OSPF"
   ]
  },
  {
   "cell_type": "markdown",
   "metadata": {},
   "source": [
    "Nous avons étudié dans l’année les protocoles de routage RIP (Routing Information Protocol) et OSPF (Open Shortest Path First) utilisés sur Internet."
   ]
  },
  {
   "cell_type": "markdown",
   "metadata": {},
   "source": [
    "Un réseau de routeurs peut être représenté par un graphe non-orienté et pondéré : les sommets sont des ordinateurs ou des routeurs et les arêtes sont pondérées par la métrique du protocole OSPF (liée à la vitesse de transmission de la liaison.)\n"
   ]
  },
  {
   "cell_type": "markdown",
   "metadata": {},
   "source": [
    "<img src=\"Reseau_OSPF.png\">"
   ]
  },
  {
   "cell_type": "markdown",
   "metadata": {},
   "source": [
    "# Modélisation en Python d’un réseau de routeurs et étude de chemins (de routes) utilisant le protocole OSPF.\n"
   ]
  },
  {
   "cell_type": "markdown",
   "metadata": {},
   "source": [
    "<img src=\"reseau.png\">"
   ]
  },
  {
   "cell_type": "markdown",
   "metadata": {},
   "source": [
    "On peut modéliser ce réseau par une matrice d'adjacence (de dimension 6)."
   ]
  },
  {
   "cell_type": "code",
   "execution_count": 32,
   "metadata": {},
   "outputs": [
    {
     "name": "stdout",
     "output_type": "stream",
     "text": [
      "[0, 3, 10, 0, 2, 10]\n",
      "[3, 0, 7, 3, 4, 0]\n",
      "[10, 7, 0, 0, 0, 0]\n",
      "[0, 3, 0, 0, 4, 0]\n",
      "[2, 4, 0, 4, 0, 0]\n",
      "[10, 0, 0, 0, 0, 0]\n"
     ]
    }
   ],
   "source": [
    "import matplotlib.pyplot as plt\n",
    "from graphviz import Graph\n",
    "import random \n",
    "import os\n",
    "\n",
    "TYPE_SORTIE_FICHIER_DOT = False\n",
    "FORMAT_FICHIER_IMAGE = \"png\"\n",
    "\n",
    "def genere_reseau_aleatoire(nb_routeurs):\n",
    "    \"\"\"\n",
    "    Génère aléatoirement un réseau de routeurs\n",
    "    :param nb_retours: le nombre de routeurs\n",
    "    :return: une matrice d'adjacence représentant le réseau\n",
    "    A l'intersection de la ligne lig et de la colonne col, un coefficient non nul indique que les routeurs (lig + 1) et\n",
    "    (col + 1) sont reliés et que leur métrique de transmission est donné par le coefficient de la matrice\n",
    "    \"\"\"\n",
    "    matrice_adjacence = [[0 for loop in range(nb_routeurs)] for loop in range(nb_routeurs)]\n",
    "    for no_routeur in range(nb_routeurs):\n",
    "        liste_voisins_possibles = [no for no in range(no_routeur)]\n",
    "        if len(liste_voisins_possibles) > 0:\n",
    "            voisins_choisis = random.sample(liste_voisins_possibles,random.randint(1,len(liste_voisins_possibles)))\n",
    "            for no_routeur_voisin in voisins_choisis:\n",
    "                    matrice_adjacence[no_routeur][no_routeur_voisin] = random.randint(1,10)\n",
    "                    matrice_adjacence[no_routeur_voisin][no_routeur] = matrice_adjacence[no_routeur][no_routeur_voisin]\n",
    "    return matrice_adjacence\n",
    "\n",
    "matrice_adjacence = genere_reseau_aleatoire(6)\n",
    "for ligne in matrice_adjacence:\n",
    "    print(ligne)\n"
   ]
  },
  {
   "cell_type": "code",
   "execution_count": 50,
   "metadata": {},
   "outputs": [
    {
     "name": "stdout",
     "output_type": "stream",
     "text": [
      "[0, 8, 5, 0, 0, 10, 6, 0, 8, 7, 0, 8, 7, 0, 0, 6, 0, 0, 7, 10]\n",
      "[8, 0, 8, 6, 1, 0, 0, 2, 3, 2, 2, 3, 0, 5, 10, 7, 1, 8, 6, 8]\n",
      "[5, 8, 0, 0, 0, 4, 3, 8, 0, 2, 10, 0, 7, 3, 5, 6, 1, 0, 4, 10]\n",
      "[0, 6, 0, 0, 0, 5, 5, 3, 0, 10, 0, 0, 6, 6, 0, 9, 0, 0, 3, 9]\n",
      "[0, 1, 0, 0, 0, 7, 3, 2, 5, 2, 0, 6, 4, 0, 0, 7, 0, 0, 1, 1]\n",
      "[10, 0, 4, 5, 7, 0, 10, 9, 2, 3, 0, 0, 8, 1, 0, 5, 2, 0, 10, 5]\n",
      "[6, 0, 3, 5, 3, 10, 0, 0, 1, 5, 0, 4, 6, 8, 0, 9, 1, 0, 8, 4]\n",
      "[0, 2, 8, 3, 2, 9, 0, 0, 8, 2, 0, 7, 9, 3, 0, 4, 9, 0, 8, 0]\n",
      "[8, 3, 0, 0, 5, 2, 1, 8, 0, 10, 0, 0, 0, 0, 1, 4, 0, 0, 8, 0]\n",
      "[7, 2, 2, 10, 2, 3, 5, 2, 10, 0, 0, 10, 2, 0, 0, 1, 0, 8, 4, 1]\n",
      "[0, 2, 10, 0, 0, 0, 0, 0, 0, 0, 0, 2, 4, 0, 0, 0, 0, 0, 9, 5]\n",
      "[8, 3, 0, 0, 6, 0, 4, 7, 0, 10, 2, 0, 4, 10, 0, 8, 8, 10, 3, 4]\n",
      "[7, 0, 7, 6, 4, 8, 6, 9, 0, 2, 4, 4, 0, 9, 0, 5, 0, 2, 2, 3]\n",
      "[0, 5, 3, 6, 0, 1, 8, 3, 0, 0, 0, 10, 9, 0, 0, 9, 6, 9, 10, 10]\n",
      "[0, 10, 5, 0, 0, 0, 0, 0, 1, 0, 0, 0, 0, 0, 0, 1, 3, 2, 9, 9]\n",
      "[6, 7, 6, 9, 7, 5, 9, 4, 4, 1, 0, 8, 5, 9, 1, 0, 8, 7, 3, 5]\n",
      "[0, 1, 1, 0, 0, 2, 1, 9, 0, 0, 0, 8, 0, 6, 3, 8, 0, 0, 7, 2]\n",
      "[0, 8, 0, 0, 0, 0, 0, 0, 0, 8, 0, 10, 2, 9, 2, 7, 0, 0, 10, 6]\n",
      "[7, 6, 4, 3, 1, 10, 8, 8, 8, 4, 9, 3, 2, 10, 9, 3, 7, 10, 0, 9]\n",
      "[10, 8, 10, 9, 1, 5, 4, 0, 0, 1, 5, 4, 3, 10, 9, 5, 2, 6, 9, 0]\n",
      "// RIP - OSPF\n",
      "graph {\n",
      "\tRouteur_2 -- Routeur_1 [label=8]\n",
      "\tRouteur_3 -- Routeur_1 [label=5]\n",
      "\tRouteur_3 -- Routeur_2 [label=8]\n",
      "\tRouteur_4 -- Routeur_2 [label=6]\n",
      "\tRouteur_5 -- Routeur_2 [label=1]\n",
      "\tRouteur_6 -- Routeur_1 [label=10]\n",
      "\tRouteur_6 -- Routeur_3 [label=4]\n",
      "\tRouteur_6 -- Routeur_4 [label=5]\n",
      "\tRouteur_6 -- Routeur_5 [label=7]\n",
      "\tRouteur_7 -- Routeur_1 [label=6]\n",
      "\tRouteur_7 -- Routeur_3 [label=3]\n",
      "\tRouteur_7 -- Routeur_4 [label=5]\n",
      "\tRouteur_7 -- Routeur_5 [label=3]\n",
      "\tRouteur_7 -- Routeur_6 [label=10]\n",
      "\tRouteur_8 -- Routeur_2 [label=2]\n",
      "\tRouteur_8 -- Routeur_3 [label=8]\n",
      "\tRouteur_8 -- Routeur_4 [label=3]\n",
      "\tRouteur_8 -- Routeur_5 [label=2]\n",
      "\tRouteur_8 -- Routeur_6 [label=9]\n",
      "\tRouteur_9 -- Routeur_1 [label=8]\n",
      "\tRouteur_9 -- Routeur_2 [label=3]\n",
      "\tRouteur_9 -- Routeur_5 [label=5]\n",
      "\tRouteur_9 -- Routeur_6 [label=2]\n",
      "\tRouteur_9 -- Routeur_7 [label=1]\n",
      "\tRouteur_9 -- Routeur_8 [label=8]\n",
      "\tRouteur_10 -- Routeur_1 [label=7]\n",
      "\tRouteur_10 -- Routeur_2 [label=2]\n",
      "\tRouteur_10 -- Routeur_3 [label=2]\n",
      "\tRouteur_10 -- Routeur_4 [label=10]\n",
      "\tRouteur_10 -- Routeur_5 [label=2]\n",
      "\tRouteur_10 -- Routeur_6 [label=3]\n",
      "\tRouteur_10 -- Routeur_7 [label=5]\n",
      "\tRouteur_10 -- Routeur_8 [label=2]\n",
      "\tRouteur_10 -- Routeur_9 [label=10]\n",
      "\tRouteur_11 -- Routeur_2 [label=2]\n",
      "\tRouteur_11 -- Routeur_3 [label=10]\n",
      "\tRouteur_12 -- Routeur_1 [label=8]\n",
      "\tRouteur_12 -- Routeur_2 [label=3]\n",
      "\tRouteur_12 -- Routeur_5 [label=6]\n",
      "\tRouteur_12 -- Routeur_7 [label=4]\n",
      "\tRouteur_12 -- Routeur_8 [label=7]\n",
      "\tRouteur_12 -- Routeur_10 [label=10]\n",
      "\tRouteur_12 -- Routeur_11 [label=2]\n",
      "\tRouteur_13 -- Routeur_1 [label=7]\n",
      "\tRouteur_13 -- Routeur_3 [label=7]\n",
      "\tRouteur_13 -- Routeur_4 [label=6]\n",
      "\tRouteur_13 -- Routeur_5 [label=4]\n",
      "\tRouteur_13 -- Routeur_6 [label=8]\n",
      "\tRouteur_13 -- Routeur_7 [label=6]\n",
      "\tRouteur_13 -- Routeur_8 [label=9]\n",
      "\tRouteur_13 -- Routeur_10 [label=2]\n",
      "\tRouteur_13 -- Routeur_11 [label=4]\n",
      "\tRouteur_13 -- Routeur_12 [label=4]\n",
      "\tRouteur_14 -- Routeur_2 [label=5]\n",
      "\tRouteur_14 -- Routeur_3 [label=3]\n",
      "\tRouteur_14 -- Routeur_4 [label=6]\n",
      "\tRouteur_14 -- Routeur_6 [label=1]\n",
      "\tRouteur_14 -- Routeur_7 [label=8]\n",
      "\tRouteur_14 -- Routeur_8 [label=3]\n",
      "\tRouteur_14 -- Routeur_12 [label=10]\n",
      "\tRouteur_14 -- Routeur_13 [label=9]\n",
      "\tRouteur_15 -- Routeur_2 [label=10]\n",
      "\tRouteur_15 -- Routeur_3 [label=5]\n",
      "\tRouteur_15 -- Routeur_9 [label=1]\n",
      "\tRouteur_16 -- Routeur_1 [label=6]\n",
      "\tRouteur_16 -- Routeur_2 [label=7]\n",
      "\tRouteur_16 -- Routeur_3 [label=6]\n",
      "\tRouteur_16 -- Routeur_4 [label=9]\n",
      "\tRouteur_16 -- Routeur_5 [label=7]\n",
      "\tRouteur_16 -- Routeur_6 [label=5]\n",
      "\tRouteur_16 -- Routeur_7 [label=9]\n",
      "\tRouteur_16 -- Routeur_8 [label=4]\n",
      "\tRouteur_16 -- Routeur_9 [label=4]\n",
      "\tRouteur_16 -- Routeur_10 [label=1]\n",
      "\tRouteur_16 -- Routeur_12 [label=8]\n",
      "\tRouteur_16 -- Routeur_13 [label=5]\n",
      "\tRouteur_16 -- Routeur_14 [label=9]\n",
      "\tRouteur_16 -- Routeur_15 [label=1]\n",
      "\tRouteur_17 -- Routeur_2 [label=1]\n",
      "\tRouteur_17 -- Routeur_3 [label=1]\n",
      "\tRouteur_17 -- Routeur_6 [label=2]\n",
      "\tRouteur_17 -- Routeur_7 [label=1]\n",
      "\tRouteur_17 -- Routeur_8 [label=9]\n",
      "\tRouteur_17 -- Routeur_12 [label=8]\n",
      "\tRouteur_17 -- Routeur_14 [label=6]\n",
      "\tRouteur_17 -- Routeur_15 [label=3]\n",
      "\tRouteur_17 -- Routeur_16 [label=8]\n",
      "\tRouteur_18 -- Routeur_2 [label=8]\n",
      "\tRouteur_18 -- Routeur_10 [label=8]\n",
      "\tRouteur_18 -- Routeur_12 [label=10]\n",
      "\tRouteur_18 -- Routeur_13 [label=2]\n",
      "\tRouteur_18 -- Routeur_14 [label=9]\n",
      "\tRouteur_18 -- Routeur_15 [label=2]\n",
      "\tRouteur_18 -- Routeur_16 [label=7]\n",
      "\tRouteur_19 -- Routeur_1 [label=7]\n",
      "\tRouteur_19 -- Routeur_2 [label=6]\n",
      "\tRouteur_19 -- Routeur_3 [label=4]\n",
      "\tRouteur_19 -- Routeur_4 [label=3]\n",
      "\tRouteur_19 -- Routeur_5 [label=1]\n",
      "\tRouteur_19 -- Routeur_6 [label=10]\n",
      "\tRouteur_19 -- Routeur_7 [label=8]\n",
      "\tRouteur_19 -- Routeur_8 [label=8]\n",
      "\tRouteur_19 -- Routeur_9 [label=8]\n",
      "\tRouteur_19 -- Routeur_10 [label=4]\n",
      "\tRouteur_19 -- Routeur_11 [label=9]\n",
      "\tRouteur_19 -- Routeur_12 [label=3]\n",
      "\tRouteur_19 -- Routeur_13 [label=2]\n",
      "\tRouteur_19 -- Routeur_14 [label=10]\n",
      "\tRouteur_19 -- Routeur_15 [label=9]\n",
      "\tRouteur_19 -- Routeur_16 [label=3]\n",
      "\tRouteur_19 -- Routeur_17 [label=7]\n",
      "\tRouteur_19 -- Routeur_18 [label=10]\n",
      "\tRouteur_20 -- Routeur_1 [label=10]\n",
      "\tRouteur_20 -- Routeur_2 [label=8]\n",
      "\tRouteur_20 -- Routeur_3 [label=10]\n",
      "\tRouteur_20 -- Routeur_4 [label=9]\n",
      "\tRouteur_20 -- Routeur_5 [label=1]\n",
      "\tRouteur_20 -- Routeur_6 [label=5]\n",
      "\tRouteur_20 -- Routeur_7 [label=4]\n",
      "\tRouteur_20 -- Routeur_10 [label=1]\n",
      "\tRouteur_20 -- Routeur_11 [label=5]\n",
      "\tRouteur_20 -- Routeur_12 [label=4]\n",
      "\tRouteur_20 -- Routeur_13 [label=3]\n",
      "\tRouteur_20 -- Routeur_14 [label=10]\n",
      "\tRouteur_20 -- Routeur_15 [label=9]\n",
      "\tRouteur_20 -- Routeur_16 [label=5]\n",
      "\tRouteur_20 -- Routeur_17 [label=2]\n",
      "\tRouteur_20 -- Routeur_18 [label=6]\n",
      "\tRouteur_20 -- Routeur_19 [label=9]\n",
      "}\n"
     ]
    },
    {
     "data": {
      "text/html": [
       "<img src='reseau_20.png'>"
      ],
      "text/plain": [
       "<IPython.core.display.HTML object>"
      ]
     },
     "metadata": {},
     "output_type": "display_data"
    }
   ],
   "source": [
    "def affiche_graphe(matrice_adjacence,routeur_depart=None,routeur_arrivee=None,ospf_max=None,rip_max=None):\n",
    "    \"\"\"\n",
    "    :param graphe:\n",
    "    :return:\n",
    "    \"\"\"\n",
    "    graph = Graph(comment='RIP - OSPF')\n",
    "    # Les sommets du graphe\n",
    "    if routeur_depart:\n",
    "        no_routeur_depart = int(routeur_depart.split(\"_\")[1])\n",
    "        no_routeur_arrivee = int(routeur_arrivee.split(\"_\")[1])\n",
    "        for lig in range(len(matrice_adjacence)):\n",
    "            nom_routeur = \"Routeur_\" + str(lig + 1)\n",
    "            if no_routeur_depart == lig + 1 or no_routeur_arrivee == lig + 1:\n",
    "                graph.node(nom_routeur,color='green',style='filled')\n",
    "    # les arêtes du graphe\n",
    "    for lig in range(len(matrice_adjacence)):\n",
    "        for col in range(lig):\n",
    "            if matrice_adjacence[lig][col] != 0:\n",
    "                nom_routeur1 = \"Routeur_\" + str(lig + 1)\n",
    "                nom_routeur2 = \"Routeur_\" + str(col + 1)\n",
    "                metrique = str(matrice_adjacence[lig][col])\n",
    "                if ospf_max and nom_routeur1 in ospf_max[1] and nom_routeur2 in ospf_max[1] and abs(ospf_max[1].index(nom_routeur1) - ospf_max[1].index(nom_routeur2))==1:\n",
    "                    graph.edge(nom_routeur1, nom_routeur2, label=metrique,color='green',size='5')\n",
    "                    if rip_max and nom_routeur1 in rip_max and nom_routeur2 in rip_max and abs(rip_max.index(nom_routeur1) - rip_max.index(nom_routeur2)) == 1:\n",
    "                        graph.edge(nom_routeur1, nom_routeur2, label=metrique, color='red', size='5')\n",
    "                elif rip_max and nom_routeur1 in rip_max and nom_routeur2 in rip_max and abs(rip_max.index(nom_routeur1) - rip_max.index(nom_routeur2))==1:\n",
    "                    graph.edge(nom_routeur1, nom_routeur2, label=metrique,color='red',size='5')\n",
    "                else:\n",
    "                    graph.edge(nom_routeur1, nom_routeur2,label=metrique)\n",
    "    prefixe_nom_fichier = 'reseau_' + str(len(matrice_adjacence)) \n",
    "    with open(prefixe_nom_fichier + '.dot','w') as f:\n",
    "        f.write(graph.source)\n",
    "    print(graph.source)\n",
    "    graph.format = FORMAT_FICHIER_IMAGE\n",
    "    graph.render(prefixe_nom_fichier)\n",
    "    nom_fichier = prefixe_nom_fichier + \".\"+ FORMAT_FICHIER_IMAGE\n",
    "    #print(nom_fichier)\n",
    "    display(HTML(\"<img src='\" + nom_fichier + \"'>\"))\n",
    "\n",
    "    \n",
    "import os\n",
    "from IPython.display import display, HTML\n",
    "matrice_adjacence = genere_reseau_aleatoire(20)\n",
    "for ligne in matrice_adjacence:\n",
    "    print(ligne)\n",
    "affiche_graphe(matrice_adjacence)    "
   ]
  },
  {
   "cell_type": "code",
   "execution_count": null,
   "metadata": {},
   "outputs": [],
   "source": []
  },
  {
   "cell_type": "code",
   "execution_count": null,
   "metadata": {},
   "outputs": [],
   "source": []
  },
  {
   "cell_type": "code",
   "execution_count": null,
   "metadata": {},
   "outputs": [],
   "source": []
  },
  {
   "cell_type": "code",
   "execution_count": null,
   "metadata": {},
   "outputs": [],
   "source": []
  },
  {
   "cell_type": "code",
   "execution_count": null,
   "metadata": {},
   "outputs": [],
   "source": []
  }
 ],
 "metadata": {
  "kernelspec": {
   "display_name": "Python 3",
   "language": "python",
   "name": "python3"
  },
  "language_info": {
   "codemirror_mode": {
    "name": "ipython",
    "version": 3
   },
   "file_extension": ".py",
   "mimetype": "text/x-python",
   "name": "python",
   "nbconvert_exporter": "python",
   "pygments_lexer": "ipython3",
   "version": "3.7.4"
  }
 },
 "nbformat": 4,
 "nbformat_minor": 2
}
